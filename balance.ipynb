{
 "cells": [
  {
   "cell_type": "code",
   "execution_count": 1,
   "metadata": {},
   "outputs": [],
   "source": [
    "# -*- coding: utf-8 -*-\n",
    "import os\n",
    "\n",
    "from io import StringIO\n",
    "from dotenv import load_dotenv\n",
    "\n",
    "import pandas as pd\n",
    "\n",
    "from api_functions import TelegramBot\n",
    "from api_functions import YandexDirect\n",
    "from api_functions import YandexMessengerBot"
   ]
  },
  {
   "cell_type": "markdown",
   "metadata": {},
   "source": [
    "### Get env vars"
   ]
  },
  {
   "cell_type": "code",
   "execution_count": 2,
   "metadata": {},
   "outputs": [],
   "source": [
    "load_dotenv()\n",
    "bot_token = os.getenv(\"TELEGRAM_API_TOKEN\")\n",
    "token = os.getenv(\"YANDEX_TOKEN\")\n",
    "yam_token = os.getenv(\"YAM_TOKEN\")"
   ]
  },
  {
   "cell_type": "markdown",
   "metadata": {},
   "source": [
    "### Telegram & Yandex Bot Token, chat ID and instances"
   ]
  },
  {
   "cell_type": "code",
   "execution_count": 3,
   "metadata": {},
   "outputs": [],
   "source": [
    "# chat_id = '126841573' # personal\n",
    "chat_id = '-4090186402' # Мой канал с алёртами\n",
    "# chat_id = '-1002145547826' # Чат закупки в телеге\n",
    "chat_id_ya = '0/0/6b2bfa7e-ed2e-4be9-9a12-b753a68a4a3e'\n",
    "telegram_bot = TelegramBot(bot_token, chat_id)\n",
    "ya_bot = YandexMessengerBot(yam_token, chat_id_ya)"
   ]
  },
  {
   "cell_type": "markdown",
   "metadata": {},
   "source": [
    "## Запросы в Яндекс"
   ]
  },
  {
   "cell_type": "markdown",
   "metadata": {},
   "source": [
    "### Create Instance of Yandex Exporter"
   ]
  },
  {
   "cell_type": "code",
   "execution_count": 5,
   "metadata": {},
   "outputs": [],
   "source": [
    "yandex = YandexDirect(token)"
   ]
  },
  {
   "cell_type": "code",
   "execution_count": 6,
   "metadata": {},
   "outputs": [],
   "source": [
    "logins_actual = ['lost-ark-mrt', 'perfect-world-mrt', 'arche-age-mrt', \n",
    "                 'allodsonline-games', 'atomicheart-game', 'battle-teams2', \n",
    "                 'warface2016-2017warfacerwyndxg', 'revival-astrum']"
   ]
  },
  {
   "cell_type": "markdown",
   "metadata": {},
   "source": [
    "### Запрос средств на аккаунтах"
   ]
  },
  {
   "cell_type": "code",
   "execution_count": 7,
   "metadata": {},
   "outputs": [
    {
     "name": "stdout",
     "output_type": "stream",
     "text": [
      "Request was successful\n",
      "{'data': {'Accounts': [{'EmailNotification': {'PausedByDayBudget': 'Yes', 'Email': 'd.eliseev@corp.mail.ru', 'MoneyWarningValue': 20}, 'AccountDayBudget': None, 'AgencyName': 'РиалВеб', 'Login': 'lost-ark-mrt', 'Currency': 'RUB', 'Amount': '2855828.547667', 'SmsNotification': {'SmsTimeFrom': '09:00', 'MoneyInSms': 'No', 'SmsTimeTo': '21:00', 'MoneyOutSms': 'No', 'PausedByDayBudgetSms': 'Yes'}, 'AmountAvailableForTransfer': '2834303.55', 'AccountID': 39838670}, {'Amount': '769202.26375', 'Login': 'perfect-world-mrt', 'Currency': 'RUB', 'AmountAvailableForTransfer': '768902.26', 'AccountID': 48709557, 'SmsNotification': {'PausedByDayBudgetSms': 'Yes', 'SmsTimeTo': '21:00', 'MoneyOutSms': 'No', 'MoneyInSms': 'No', 'SmsTimeFrom': '09:00'}, 'EmailNotification': {'MoneyWarningValue': 20, 'PausedByDayBudget': 'Yes', 'Email': 'ivan.sidorenko@corp.mail.ru'}, 'AccountDayBudget': None, 'AgencyName': 'РиалВеб'}, {'AgencyName': 'РиалВеб', 'EmailNotification': {'MoneyWarningValue': 20, 'PausedByDayBudget': 'Yes', 'Email': 'yandex.direct@corp.mail.ru'}, 'AccountDayBudget': None, 'AmountAvailableForTransfer': '658531.44', 'AccountID': 38647442, 'SmsNotification': {'MoneyInSms': 'No', 'SmsTimeFrom': '09:00', 'PausedByDayBudgetSms': 'Yes', 'SmsTimeTo': '21:00', 'MoneyOutSms': 'No'}, 'Amount': '658831.438083', 'Login': 'arche-age-mrt', 'Currency': 'RUB'}, {'Currency': 'RUB', 'Login': 'allodsonline-games', 'Amount': '24754.010167', 'SmsNotification': {'MoneyInSms': 'No', 'SmsTimeFrom': '09:00', 'PausedByDayBudgetSms': 'Yes', 'SmsTimeTo': '21:00', 'MoneyOutSms': 'No'}, 'AccountID': 75133995, 'AmountAvailableForTransfer': '9754.01', 'AccountDayBudget': None, 'EmailNotification': {'MoneyWarningValue': 20, 'Email': 'd.andreichykava@vk.team', 'PausedByDayBudget': 'Yes'}, 'AgencyName': 'РиалВеб'}, {'Amount': '193563.39525', 'Currency': 'RUB', 'Login': 'atomicheart-game', 'AccountID': 79482845, 'AmountAvailableForTransfer': '193263.4', 'SmsNotification': {'PausedByDayBudgetSms': 'Yes', 'SmsTimeTo': '21:00', 'MoneyOutSms': 'No', 'SmsTimeFrom': '09:00', 'MoneyInSms': 'No'}, 'AccountDayBudget': None, 'EmailNotification': {'PausedByDayBudget': 'Yes', 'Email': 'ads-mailrurw1@yandex.ru', 'MoneyWarningValue': 20}, 'AgencyName': 'РиалВеб'}, {'SmsNotification': {'SmsTimeFrom': '09:00', 'MoneyInSms': 'No', 'SmsTimeTo': '21:00', 'PausedByDayBudgetSms': 'Yes', 'MoneyOutSms': 'No'}, 'AccountID': 82182521, 'AmountAvailableForTransfer': '39667.65', 'Currency': 'RUB', 'Login': 'battle-teams2', 'Amount': '47122.095167', 'AgencyName': 'РиалВеб', 'AccountDayBudget': None, 'EmailNotification': {'MoneyWarningValue': 20, 'Email': 'ads-mailrurw1@yandex.ru', 'PausedByDayBudget': 'Yes'}}, {'SmsNotification': {'MoneyInSms': 'No', 'SmsTimeFrom': '09:00', 'PausedByDayBudgetSms': 'Yes', 'SmsTimeTo': '21:00', 'MoneyOutSms': 'No'}, 'AmountAvailableForTransfer': '10323391.25', 'AccountID': 38648736, 'Login': 'warface2016-2017warfacerwyndxg', 'Currency': 'RUB', 'Amount': '10467435.093917', 'AgencyName': 'РиалВеб', 'EmailNotification': {'PausedByDayBudget': 'Yes', 'Email': 'yandex.direct@corp.mail.ru', 'MoneyWarningValue': 20}, 'AccountDayBudget': None}, {'AgencyName': 'РиалВеб', 'EmailNotification': {'MoneyWarningValue': 20, 'PausedByDayBudget': 'Yes', 'Email': 'revival-astrum@yandex.ru'}, 'AccountDayBudget': None, 'AmountAvailableForTransfer': '95098.25', 'AccountID': 103797722, 'SmsNotification': {'SmsTimeTo': '21:00', 'PausedByDayBudgetSms': 'Yes', 'MoneyOutSms': 'No', 'SmsTimeFrom': '09:00', 'MoneyInSms': 'No'}, 'Amount': '102384.330583', 'Login': 'revival-astrum', 'Currency': 'RUB'}], 'ActionsResult': []}}\n"
     ]
    }
   ],
   "source": [
    "df = pd.DataFrame(yandex.accounts_budget(logins_actual))"
   ]
  },
  {
   "cell_type": "markdown",
   "metadata": {},
   "source": [
    "### Запрос трат за последние три дня по каждому аккаунту"
   ]
  },
  {
   "cell_type": "code",
   "execution_count": 8,
   "metadata": {},
   "outputs": [
    {
     "name": "stdout",
     "output_type": "stream",
     "text": [
      "Отчет для аккаунта lost-ark-mrt создан успешно\n",
      "RequestId: 5877013937294907622\n",
      "Отчет для аккаунта perfect-world-mrt создан успешно\n",
      "RequestId: 4706172354498102420\n",
      "Отчет для аккаунта arche-age-mrt создан успешно\n",
      "RequestId: 5329712452103680422\n",
      "Отчет для аккаунта allodsonline-games создан успешно\n",
      "RequestId: 1019499461091834018\n",
      "Отчет для аккаунта atomicheart-game создан успешно\n",
      "RequestId: 1337553930295237864\n",
      "Отчет для аккаунта battle-teams2 создан успешно\n",
      "RequestId: 634219826079899205\n",
      "Отчет для аккаунта warface2016-2017warfacerwyndxg создан успешно\n",
      "RequestId: 2730839738598679817\n",
      "Отчет для аккаунта revival-astrum создан успешно\n",
      "RequestId: 2506643458563712885\n"
     ]
    }
   ],
   "source": [
    "budget_dict = yandex.get_account_spent(logins_actual)"
   ]
  },
  {
   "cell_type": "markdown",
   "metadata": {},
   "source": [
    "### Преобразование временного файла из запроса в pandas df"
   ]
  },
  {
   "cell_type": "code",
   "execution_count": 9,
   "metadata": {},
   "outputs": [],
   "source": [
    "budget_dict = pd.read_csv(StringIO(budget_dict), sep=',', escapechar='\\\\', index_col=False)"
   ]
  },
  {
   "cell_type": "markdown",
   "metadata": {},
   "source": [
    "### Фильтруем аккаунты только со спендом за последние три дня"
   ]
  },
  {
   "cell_type": "code",
   "execution_count": 10,
   "metadata": {},
   "outputs": [],
   "source": [
    "budget_dict = budget_dict[(budget_dict['Costs']!= 0)]"
   ]
  },
  {
   "cell_type": "code",
   "execution_count": 11,
   "metadata": {},
   "outputs": [],
   "source": [
    "merged_df = pd.merge(budget_dict, df, how='left', on='Login').fillna(0)"
   ]
  },
  {
   "cell_type": "code",
   "execution_count": 12,
   "metadata": {},
   "outputs": [],
   "source": [
    "merged_df['avg_cost'] = round(merged_df['Costs'] / 3, 2)\n",
    "merged_df['days'] = pd.to_numeric(merged_df['Amount'] // merged_df['avg_cost'], downcast='integer')"
   ]
  },
  {
   "cell_type": "markdown",
   "metadata": {},
   "source": [
    "## Отправка сообщений в телеграм"
   ]
  },
  {
   "cell_type": "markdown",
   "metadata": {},
   "source": [
    "### Вариант с одним сообщением"
   ]
  },
  {
   "cell_type": "code",
   "execution_count": 13,
   "metadata": {},
   "outputs": [],
   "source": [
    "tg_message = []"
   ]
  },
  {
   "cell_type": "markdown",
   "metadata": {},
   "source": [
    "Дальше собираем список для сообщения"
   ]
  },
  {
   "cell_type": "code",
   "execution_count": 14,
   "metadata": {},
   "outputs": [],
   "source": [
    "for row in merged_df.index:\n",
    "    if merged_df['days'][row] == 0 and merged_df['Amount'][row] < 5000:\n",
    "        tg_message.append(f\"На аккаунте {merged_df['Login'][row]} закончился бюджет.\")\n",
    "    elif merged_df['days'][row] == 0 and merged_df['Amount'][row] > 5000:\n",
    "        tg_message.append(f\"На аккаунте {merged_df['Login'][row]} бюджета меньше чем на день.\")\n",
    "    elif merged_df['days'][row] == 1:\n",
    "        tg_message.append(f\"{merged_df['Login'][row]} хватит бюджета на {merged_df['days'][row]} день.\")\n",
    "    elif 1 < merged_df['days'][row] < 4:\n",
    "        tg_message.append(f\"{merged_df['Login'][row]} хватит бюджета на {merged_df['days'][row]} дня.\")"
   ]
  },
  {
   "cell_type": "markdown",
   "metadata": {},
   "source": [
    "Преобразуем список в строку с разделителями (каждая запись с новой строки + одна строка отступа)"
   ]
  },
  {
   "cell_type": "code",
   "execution_count": 15,
   "metadata": {},
   "outputs": [],
   "source": [
    "tg_message = \"\\n\\n\".join(tg_message)"
   ]
  },
  {
   "cell_type": "code",
   "execution_count": 16,
   "metadata": {},
   "outputs": [
    {
     "name": "stdout",
     "output_type": "stream",
     "text": [
      "allodsonline-games хватит бюджета на 1 день.\n",
      "\n",
      "atomicheart-game хватит бюджета на 2 дня.\n"
     ]
    }
   ],
   "source": [
    "print(tg_message)"
   ]
  },
  {
   "cell_type": "code",
   "execution_count": 17,
   "metadata": {},
   "outputs": [],
   "source": [
    "# telegram_bot = TelegramBot(bot_token, chat_id)\n",
    "# telegram_bot.send_message(tg_message)\n",
    "if tg_message:\n",
    "    tg_message = f\"Бюджеты в Yandex: \\n {tg_message}\"\n",
    "    ya_bot.send_text(tg_message)\n"
   ]
  },
  {
   "cell_type": "markdown",
   "metadata": {},
   "source": [
    "### Алёрта об срабатывании скрипта"
   ]
  },
  {
   "cell_type": "code",
   "execution_count": 19,
   "metadata": {},
   "outputs": [
    {
     "data": {
      "text/plain": [
       "{'ok': True,\n",
       " 'result': {'message_id': 494,\n",
       "  'from': {'id': 6077122053,\n",
       "   'is_bot': True,\n",
       "   'first_name': 'warface_guide_bot',\n",
       "   'username': 'Warface_guide_bot'},\n",
       "  'chat': {'id': 126841573,\n",
       "   'first_name': 'Alexey',\n",
       "   'last_name': 'Rusakov',\n",
       "   'username': 'WhiteRabbits',\n",
       "   'type': 'private'},\n",
       "  'date': 1715066953,\n",
       "  'text': 'Yandex отработал'}}"
      ]
     },
     "execution_count": 19,
     "metadata": {},
     "output_type": "execute_result"
    }
   ],
   "source": [
    "chat_id = '126841573'\n",
    "telegram_bot = TelegramBot(bot_token, chat_id)\n",
    "message_test = f\"Yandex отработал\"\n",
    "telegram_bot.send_message(message_test)"
   ]
  }
 ],
 "metadata": {
  "kernelspec": {
   "display_name": "Python 3",
   "language": "python",
   "name": "python3"
  },
  "language_info": {
   "codemirror_mode": {
    "name": "ipython",
    "version": 3
   },
   "file_extension": ".py",
   "mimetype": "text/x-python",
   "name": "python",
   "nbconvert_exporter": "python",
   "pygments_lexer": "ipython3",
   "version": "3.11.0"
  },
  "orig_nbformat": 4,
  "vscode": {
   "interpreter": {
    "hash": "aee8b7b246df8f9039afb4144a1f6fd8d2ca17a180786b69acc140d282b71a49"
   }
  }
 },
 "nbformat": 4,
 "nbformat_minor": 2
}
