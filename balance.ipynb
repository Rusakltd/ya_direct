{
 "cells": [
  {
   "cell_type": "code",
   "execution_count": null,
   "metadata": {},
   "outputs": [],
   "source": [
    "# -*- coding: utf-8 -*-\n",
    "import os\n",
    "import sys\n",
    "\n",
    "from io import StringIO\n",
    "\n",
    "import pandas as pd\n",
    "from dotenv import load_dotenv\n",
    "\n",
    "from api_functions import TelegramBot\n",
    "from api_functions import YandexDirect"
   ]
  },
  {
   "cell_type": "markdown",
   "metadata": {},
   "source": [
    "### Загрузка параметров окружения"
   ]
  },
  {
   "cell_type": "code",
   "execution_count": null,
   "metadata": {},
   "outputs": [],
   "source": [
    "load_dotenv()"
   ]
  },
  {
   "cell_type": "markdown",
   "metadata": {},
   "source": [
    "### Telegram Bot Token, chat ID and instance"
   ]
  },
  {
   "cell_type": "code",
   "execution_count": null,
   "metadata": {},
   "outputs": [],
   "source": [
    "bot_token = os.getenv(\"TELEGRAM_API_TOKEN\")\n",
    "# chat_id = '126841573' # personal\n",
    "chat_id = '-4090186402' # Мой канал с алёртами\n",
    "# chat_id = '-1002145547826' # Чат закупки в телеге\n",
    "telegram_bot = TelegramBot(bot_token, chat_id)"
   ]
  },
  {
   "cell_type": "markdown",
   "metadata": {},
   "source": [
    "### Параметры для Яндекса"
   ]
  },
  {
   "cell_type": "code",
   "execution_count": null,
   "metadata": {},
   "outputs": [],
   "source": [
    "# OAuth-токен представителя агентства, от имени которого будут выполняться запросы\n",
    "token = os.getenv(\"YANDEX_TOKEN\")\n",
    "\n",
    "# Адрес сервиса Reports для отправки JSON-запросов (регистрозависимый)\n",
    "ReportsURL = 'https://api.direct.yandex.com/json/v5/reports'"
   ]
  },
  {
   "cell_type": "markdown",
   "metadata": {},
   "source": [
    "### Метод для корректной обработки строк в кодировке UTF-8 как в Python 3, так и в Python 2"
   ]
  },
  {
   "cell_type": "code",
   "execution_count": null,
   "metadata": {},
   "outputs": [],
   "source": [
    "if sys.version_info < (3,):\n",
    "    def u(x):\n",
    "        try:\n",
    "            return x.encode(\"utf8\")\n",
    "        except UnicodeDecodeError:\n",
    "            return x\n",
    "else:\n",
    "    def u(x):\n",
    "        if isinstance(x, bytes):\n",
    "            return x.decode('utf8')\n",
    "        else:\n",
    "            return x"
   ]
  },
  {
   "cell_type": "markdown",
   "metadata": {},
   "source": [
    "## Запросы в Яндекс"
   ]
  },
  {
   "cell_type": "markdown",
   "metadata": {},
   "source": [
    "### Create Instance of Yandex Exporter"
   ]
  },
  {
   "cell_type": "code",
   "execution_count": null,
   "metadata": {},
   "outputs": [],
   "source": [
    "yandex = YandexDirect(token)"
   ]
  },
  {
   "cell_type": "code",
   "execution_count": null,
   "metadata": {},
   "outputs": [],
   "source": [
    "logins_actual = ['lost-ark-mrt', 'perfect-world-mrt', 'arche-age-mrt', \n",
    "                 'allodsonline-games', 'atomicheart-game', 'battle-teams2', \n",
    "                 'warface2016-2017warfacerwyndxg', 'revival-astrum']"
   ]
  },
  {
   "cell_type": "markdown",
   "metadata": {},
   "source": [
    "### Запрос средств на аккаунтах"
   ]
  },
  {
   "cell_type": "code",
   "execution_count": null,
   "metadata": {},
   "outputs": [],
   "source": [
    "df = pd.DataFrame(yandex.accounts_budget(logins_actual))"
   ]
  },
  {
   "cell_type": "markdown",
   "metadata": {},
   "source": [
    "### Запрос трат за последние три дня по каждому аккаунту"
   ]
  },
  {
   "cell_type": "code",
   "execution_count": null,
   "metadata": {},
   "outputs": [],
   "source": [
    "budget_dict = yandex.get_account_spent(logins_actual)"
   ]
  },
  {
   "cell_type": "markdown",
   "metadata": {},
   "source": [
    "### Преобразование временного файла из запроса в pandas df"
   ]
  },
  {
   "cell_type": "code",
   "execution_count": null,
   "metadata": {},
   "outputs": [],
   "source": [
    "budget_dict = pd.read_csv(StringIO(budget_dict), sep=',', escapechar='\\\\', index_col=False)"
   ]
  },
  {
   "cell_type": "markdown",
   "metadata": {},
   "source": [
    "### Фильтруем аккаунты только со спендом за последние три дня"
   ]
  },
  {
   "cell_type": "code",
   "execution_count": null,
   "metadata": {},
   "outputs": [],
   "source": [
    "budget_dict = budget_dict[(budget_dict['Costs']!= 0)]"
   ]
  },
  {
   "cell_type": "code",
   "execution_count": null,
   "metadata": {},
   "outputs": [],
   "source": [
    "merged_df = pd.merge(budget_dict, df, how='left', on='Login').fillna(0)"
   ]
  },
  {
   "cell_type": "code",
   "execution_count": null,
   "metadata": {},
   "outputs": [],
   "source": [
    "merged_df['avg_cost'] = round(merged_df['Costs'] / 3, 2)\n",
    "merged_df['days'] = pd.to_numeric(merged_df['Amount'] // merged_df['avg_cost'], downcast='integer')"
   ]
  },
  {
   "cell_type": "markdown",
   "metadata": {},
   "source": [
    "## Отправка сообщений в телеграм"
   ]
  },
  {
   "cell_type": "markdown",
   "metadata": {},
   "source": [
    "### Вариант с одним сообщением"
   ]
  },
  {
   "cell_type": "code",
   "execution_count": null,
   "metadata": {},
   "outputs": [],
   "source": [
    "tg_message = []"
   ]
  },
  {
   "cell_type": "markdown",
   "metadata": {},
   "source": [
    "Дальше собираем список для сообщения"
   ]
  },
  {
   "cell_type": "code",
   "execution_count": null,
   "metadata": {},
   "outputs": [],
   "source": [
    "for row in merged_df.index:\n",
    "    if merged_df['days'][row] == 0 and merged_df['Amount'][row] < 5000:\n",
    "        tg_message.append(f\"На аккаунте {merged_df['Login'][row]} закончился бюджет.\")\n",
    "    elif merged_df['days'][row] == 0 and merged_df['Amount'][row] > 5000:\n",
    "        tg_message.append(f\"На аккаунте {merged_df['Login'][row]} бюджета меньше чем на день.\")\n",
    "    elif merged_df['days'][row] == 1:\n",
    "        tg_message.append(f\"{merged_df['Login'][row]} хватит бюджета на {merged_df['days'][row]} день.\")\n",
    "    elif 1 < merged_df['days'][row] < 4:\n",
    "        tg_message.append(f\"{merged_df['Login'][row]} хватит бюджета на {merged_df['days'][row]} дня.\")"
   ]
  },
  {
   "cell_type": "markdown",
   "metadata": {},
   "source": [
    "Преобразуем список в строку с разделителями (каждая запись с новой строки + одна строка отступа)"
   ]
  },
  {
   "cell_type": "code",
   "execution_count": null,
   "metadata": {},
   "outputs": [],
   "source": [
    "tg_message = \"\\n\\n\".join(tg_message)"
   ]
  },
  {
   "cell_type": "code",
   "execution_count": null,
   "metadata": {},
   "outputs": [],
   "source": [
    "print(tg_message)"
   ]
  },
  {
   "cell_type": "code",
   "execution_count": null,
   "metadata": {},
   "outputs": [],
   "source": [
    "telegram_bot = TelegramBot(bot_token, chat_id)\n",
    "telegram_bot.send_message(tg_message)"
   ]
  },
  {
   "cell_type": "markdown",
   "metadata": {},
   "source": [
    "### Алёрта об срабатывании скрипта"
   ]
  },
  {
   "cell_type": "code",
   "execution_count": null,
   "metadata": {},
   "outputs": [],
   "source": [
    "chat_id = '126841573'\n",
    "telegram_bot = TelegramBot(bot_token, chat_id)\n",
    "message_test = f\"Yandex отработал\"\n",
    "telegram_bot.send_message(message_test)"
   ]
  }
 ],
 "metadata": {
  "kernelspec": {
   "display_name": "Python 3",
   "language": "python",
   "name": "python3"
  },
  "language_info": {
   "codemirror_mode": {
    "name": "ipython",
    "version": 3
   },
   "file_extension": ".py",
   "mimetype": "text/x-python",
   "name": "python",
   "nbconvert_exporter": "python",
   "pygments_lexer": "ipython3",
   "version": "3.11.0"
  },
  "orig_nbformat": 4,
  "vscode": {
   "interpreter": {
    "hash": "aee8b7b246df8f9039afb4144a1f6fd8d2ca17a180786b69acc140d282b71a49"
   }
  }
 },
 "nbformat": 4,
 "nbformat_minor": 2
}
